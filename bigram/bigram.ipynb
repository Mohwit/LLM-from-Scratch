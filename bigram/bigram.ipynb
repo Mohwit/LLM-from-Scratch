{
 "cells": [
  {
   "cell_type": "markdown",
   "id": "8df9fa98-28b8-4336-9269-704a57cdbd1b",
   "metadata": {},
   "source": [
    "# Bigram"
   ]
  },
  {
   "cell_type": "markdown",
   "id": "61b1e35e-d202-4cd6-82db-c1a157761875",
   "metadata": {},
   "source": [
    "## Opening a data file"
   ]
  },
  {
   "cell_type": "code",
   "execution_count": 1,
   "id": "3b4ddf93-8e88-46ea-a1cb-3b3f6c8f0567",
   "metadata": {},
   "outputs": [
    {
     "name": "stdout",
     "output_type": "stream",
     "text": [
      "The Wonderful Wizard of Oz\n",
      "\n",
      "by L. Frank Baum\n",
      "\n",
      "\n",
      "This book is dedicated to my good friend & comrade\n",
      "My Wife\n",
      "L.F.B.\n",
      "\n",
      "\n",
      "Contents\n",
      "\n",
      " Introduction\n",
      " Chapter I. The Cyclone\n",
      " Chapter II. The Council with the Mun\n"
     ]
    }
   ],
   "source": [
    "with open(\"data/wiz_of_oz.txt\", \"r\", encoding= 'utf-8') as file:\n",
    "    text = file.read()\n",
    "print(text[:200])"
   ]
  },
  {
   "cell_type": "markdown",
   "id": "238b7b19-f3eb-4627-ab2a-4f86f308b21f",
   "metadata": {},
   "source": [
    "## Character level tokenization"
   ]
  },
  {
   "cell_type": "code",
   "execution_count": 2,
   "id": "899b4abe-6d1b-4ea0-95f7-0d810dd1632a",
   "metadata": {},
   "outputs": [
    {
     "name": "stdout",
     "output_type": "stream",
     "text": [
      "['\\n', ' ', '!', '&', '(', ')', ',', '-', '.', '0', '1', '9', ':', ';', '?', 'A', 'B', 'C', 'D', 'E', 'F', 'G', 'H', 'I', 'J', 'K', 'L', 'M', 'N', 'O', 'P', 'Q', 'R', 'S', 'T', 'U', 'V', 'W', 'X', 'Y', 'Z', 'a', 'b', 'c', 'd', 'e', 'f', 'g', 'h', 'i', 'j', 'k', 'l', 'm', 'n', 'o', 'p', 'q', 'r', 's', 't', 'u', 'v', 'w', 'x', 'y', 'z', '—', '‘', '’', '“', '”']\n",
      "72\n"
     ]
    }
   ],
   "source": [
    "## getting all unique characters\n",
    "chars = sorted(set(text))\n",
    "print(chars)\n",
    "vocab_size = len(chars)\n",
    "print(vocab_size)"
   ]
  },
  {
   "cell_type": "code",
   "execution_count": 3,
   "id": "830edde9-bb0b-45c5-8269-425da7c514c3",
   "metadata": {},
   "outputs": [],
   "source": [
    "## Mapping\n",
    "string_to_int = {ch:i for i, ch in enumerate(chars)}\n",
    "int_to_string = {i:ch for i, ch in enumerate(chars)}\n",
    "\n",
    "## Function to encode and decode\n",
    "encode = lambda s: [string_to_int[c] for c in s]\n",
    "decode = lambda l: [int_to_string[i] for i in l]"
   ]
  },
  {
   "cell_type": "code",
   "execution_count": 4,
   "id": "908813a3-bb49-4c88-879d-b9476d1da9fe",
   "metadata": {},
   "outputs": [
    {
     "name": "stdout",
     "output_type": "stream",
     "text": [
      "[48, 45, 52, 52, 55]\n"
     ]
    }
   ],
   "source": [
    "print(encode(\"hello\"))"
   ]
  },
  {
   "cell_type": "code",
   "execution_count": 5,
   "id": "6a031117-5f09-4d7b-97f8-06244eb69d47",
   "metadata": {},
   "outputs": [
    {
     "name": "stdout",
     "output_type": "stream",
     "text": [
      "['h', 'e', 'l', 'l', 'o']\n"
     ]
    }
   ],
   "source": [
    "print(decode([48, 45, 52, 52, 55]))"
   ]
  },
  {
   "cell_type": "markdown",
   "id": "0f574277-db5f-49ec-8357-940c0eadd276",
   "metadata": {},
   "source": [
    "# Using Py-Torch"
   ]
  },
  {
   "cell_type": "code",
   "execution_count": 6,
   "id": "16b0329b-cfdd-4172-aee8-23a72dc1ff65",
   "metadata": {},
   "outputs": [],
   "source": [
    "import torch"
   ]
  },
  {
   "cell_type": "code",
   "execution_count": 7,
   "id": "eb49fb10-5c40-49b3-a202-98d0c0f7a063",
   "metadata": {},
   "outputs": [
    {
     "name": "stdout",
     "output_type": "stream",
     "text": [
      "False\n"
     ]
    }
   ],
   "source": [
    "!python -c \"import torch; print(torch.cuda.is_available())\""
   ]
  },
  {
   "cell_type": "code",
   "execution_count": null,
   "id": "8c1c6c7b-6908-41bf-a91b-46cb75eafad8",
   "metadata": {},
   "outputs": [],
   "source": []
  }
 ],
 "metadata": {
  "kernelspec": {
   "display_name": ".venv",
   "language": "python",
   "name": "python3"
  },
  "language_info": {
   "codemirror_mode": {
    "name": "ipython",
    "version": 3
   },
   "file_extension": ".py",
   "mimetype": "text/x-python",
   "name": "python",
   "nbconvert_exporter": "python",
   "pygments_lexer": "ipython3",
   "version": "3.10.12"
  }
 },
 "nbformat": 4,
 "nbformat_minor": 5
}
